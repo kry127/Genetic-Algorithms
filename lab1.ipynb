{
 "cells": [
  {
   "cell_type": "markdown",
   "metadata": {},
   "source": [
    "## Лабораторная работа 1\n",
    "Вариант 9: функция 3, метод VEGAs\n",
    "\n",
    "В первую очередь, определим две целевые функции для минимизации. Пусть $n$ -- количество независимых переменных, тогда:\n",
    "\n",
    "$$J_1 = \\{j \\in [2, n],\\ j \\mod 2 = 1\\}$$\n",
    "\n",
    "$$J_2 = \\{j \\in [2, n],\\ j \\mod 2 = 0\\}$$\n",
    "\n",
    "$$f_1 = x_1 + \\frac{2}{|J_1|} \\left[4\\sum_{j \\in J_1} y_j^2 - 2 \\prod_{j \\in J_1} \\cos \\left(\\frac{20y_j \\pi}{\\sqrt{j}}\\right) + 2 \\right]$$\n",
    "\n",
    "$$f_2 = 1 - \\sqrt{x_1} + \\frac{2}{|J_2|} \\left[4\\sum_{j \\in J_2} y_j^2 - 2 \\prod_{j \\in J_2} \\cos \\left(\\frac{20y_j \\pi}{\\sqrt{j}}\\right) + 2 \\right]$$\n",
    "\n",
    "$$y_j = x_j - x_1^{0.5[1 + 3(j-2)/(n-2)]}\\quad где\\ 𝑗∈[2,𝑛]$$\n",
    "\n",
    "Пространство поиска определяется как:\n",
    "$$x_j \\in [-1, 1]\\ for\\ j \\in [1, n]$$\n",
    "\n",
    "Многокритериальная задача: $(f1, f2) \\rightarrow \\min$"
   ]
  },
  {
   "cell_type": "code",
   "execution_count": 1,
   "metadata": {},
   "outputs": [],
   "source": [
    "import matplotlib.pyplot as plt\n",
    "import numpy as np\n",
    "n = 3 # размерность функций\n",
    "a = -1 # начало интервала\n",
    "b = 1 # конец интервала\n",
    "\n",
    "J1 = np.array([j for j in range(2, n, 2)])  #нумеруем индексы С НУЛЯ\n",
    "J2 = np.array([j for j in range(1, n, 2)])  #нумеруем индексы С НУЛЯ"
   ]
  },
  {
   "cell_type": "code",
   "execution_count": 2,
   "metadata": {},
   "outputs": [],
   "source": [
    "# кодирование особи\n",
    "class individual:\n",
    "    # конструктор\n",
    "    def __init__(self, genome=None):\n",
    "        # геном инициализируется n случайными величинами с плавающей точкой\n",
    "        if genome is None:\n",
    "            genome = np.vectorize(lambda x: (b-a)*x + a)(np.random.random_sample((n)))\n",
    "        self.x = np.array(genome)\n",
    "        self.fitness = None\n",
    "    \n",
    "    # оператор мутации\n",
    "    def mutation(self):\n",
    "        self.x[np.random.randint(len(self.x))] = (b-a)*np.random.random() + a\n",
    "        self.fitness = None\n",
    "        \n",
    "    # оператор кроссинговера\n",
    "    # SBX crossover (for both)\n",
    "    # https://basegroup.ru/community/articles/real-coded-ga\n",
    "    def crossingover(self, that):\n",
    "        # сначала вычисляем бета\n",
    "        beta = 0\n",
    "        sbx_n = 7 # параметр n SBX-кроссовера\n",
    "        u = np.random.random()\n",
    "        if (u < 0.5):\n",
    "            beta = (2 * u)\n",
    "        else:\n",
    "            beta = (2 * (1 - u))\n",
    "        beta **= 1 / (sbx_n + 1)\n",
    "        # готово -- вычисляем двух потомков\n",
    "        genome1 = self.x\n",
    "        genome2 = that.x\n",
    "        child_genome1 = 0.5*((1 - beta)*genome1 + (1 + beta)*genome2)\n",
    "        child_genome2 = 0.5*((1 + beta)*genome1 + (1 - beta)*genome2)\n",
    "        return np.array([individual(child_genome1), individual(child_genome2)])\n",
    "            \n",
    "        \n",
    "    # возвращает векторную фитнес-функцию\n",
    "    def interpret(self):\n",
    "        if (not (self.fitness is None)):\n",
    "            return self.fitness\n",
    "        \n",
    "        if (self.x[0] < 0):\n",
    "            self.x[0] = 0\n",
    "        f1 = f2 = 0\n",
    "        \n",
    "        # func 3\n",
    "        self.y = np.array([0]+[self.x[j] - self.x[0]**(0.5*(1+3*(j-1)/(n-2))) for j in range (1, n)])\n",
    "        \n",
    "        sumJ1 = 4 * np.sum(np.vectorize(lambda y: y*y)(self.y[J1]))\n",
    "        prdJ1 = 2 * np.prod(list(map(lambda x: np.cos(x[0] / np.sqrt(x[1])), np.column_stack((20*np.pi*self.y[J1], J1 + 1)))))\n",
    "        f1 = self.x[0]\n",
    "        if len(J1) > 0:\n",
    "            f1 = f1 + (sumJ1 - prdJ1 + 2)*2/len(J1)\n",
    "\n",
    "        # первоначальный вариант -- здесь были J1 вместо J2\n",
    "        sumJ2 = 4 * np.sum(np.vectorize(lambda y: y*y)(self.y[J2]))\n",
    "        prdJ2 = 2 * np.prod(list(map(lambda x: np.cos(x[0] / np.sqrt(x[1])), np.column_stack((20*np.pi*self.y[J2], J2 + 1)))))\n",
    "        f2 = 1 - np.sqrt(self.x[0])\n",
    "        if len(J2) > 0:\n",
    "            f2 = f2 + (sumJ2 - prdJ2 + 2)*2/len(J2)\n",
    "        \n",
    "        # func 1\n",
    "        #self.y = np.array([self.x[j] - np.sin(6*np.pi*self.x[1] + j * np.pi / n) for j in range (0, n)])\n",
    "        \n",
    "        #sumJ1 = np.sum(np.vectorize(lambda y: y*y)(self.y[J1]))\n",
    "        #sumJ2 = np.sum(np.vectorize(lambda y: y*y)(self.y[J2]))\n",
    "        #f1 = sumJ1*2/len(J1) + self.x[0]\n",
    "        #f2 = sumJ2*2/len(J2) + 1 - np.sqrt(self.x[0])\n",
    "        \n",
    "        \n",
    "        self.fitness = [f1, f2]\n",
    "            \n",
    "        return self.fitness"
   ]
  },
  {
   "cell_type": "code",
   "execution_count": 3,
   "metadata": {},
   "outputs": [
    {
     "name": "stdout",
     "output_type": "stream",
     "text": [
      "[-0.46716258 -0.63939647 -0.25230282]\n",
      "[ 0.01778347  0.07972216 -0.38387148]\n"
     ]
    }
   ],
   "source": [
    "# небольшое тестирование\n",
    "indv1 = individual()\n",
    "indv2 = individual()\n",
    "children = indv1.crossingover(indv2)\n",
    "print(children[0].x)\n",
    "print(children[1].x)\n",
    "#print(individual([.0, .0, .0]).interpret())\n"
   ]
  },
  {
   "cell_type": "markdown",
   "metadata": {},
   "source": [
    "На основе определения особи, её кроссинговера, мутации, генома и вычисление фитнес-функции, определим генетический алгоритм с векторной оценкой"
   ]
  },
  {
   "cell_type": "code",
   "execution_count": 4,
   "metadata": {},
   "outputs": [],
   "source": [
    "class veGA:\n",
    "    #конструктор\n",
    "    def __init__(self, N = 1000, pc = 1.0, pm = 0.001, max_iters = 1000):\n",
    "        self.N = N # количество особей в генетическом алгоритме\n",
    "        self.pc = pc # вероятность кроссинговера\n",
    "        self.pm = pm # вероятность мутации\n",
    "        self.max_iters = max_iters # максимальное число итераций\n",
    "        \n",
    "        self.iter = 0 # текущая итерация\n",
    "        self.generation = np.array([individual() for k in range (0, N)]) # первое поколение\n",
    "        self.criteria_count = len(individual().interpret()) # количество критериев для оценки\n",
    "        \n",
    "    \n",
    "    # определяем правило кроссинговера для двух родителей\n",
    "    def shouldCrossover(self, p):\n",
    "        if (np.random.random() < self.pc):\n",
    "            return p[0].crossingover(p[1])\n",
    "        else:\n",
    "            return np.array(p)\n",
    "        \n",
    "    # определяем правило мутации\n",
    "    def shouldMutate(self, p):\n",
    "        if (np.random.random() < self.pm):\n",
    "            p.mutation()\n",
    "        return p\n",
    "        \n",
    "    # селекция\n",
    "    def selection(self):\n",
    "        ret = np.array([])\n",
    "        for i in range(0, self.criteria_count):\n",
    "            # копируем локально для отбора\n",
    "            tmpl = np.copy(self.generation)\n",
    "            # кроссинговер\n",
    "            #tmpl_pairs = np.resize(tmpl, (int(np.ceil(len(tmpl)/2)), 2))\n",
    "            #tmpl_children = np.array(list(map(lambda p: self.shouldCrossover(p), tmpl_pairs))).flatten()\n",
    "            # мутация\n",
    "            #tmpl_children = np.vectorize(lambda p: self.shouldMutate(p))(tmpl_children)\n",
    "            #tmpl = np.append(tmpl, tmpl_children) # добавляем детей к родителям\n",
    "            # вычисляем фитнес-функцию\n",
    "            gfitness = list(map(lambda i: (i, i.interpret()), tmpl))\n",
    "            \n",
    "            tmpl = sorted(gfitness, key = lambda x: x[1][i])\n",
    "            tmpl = np.array(list(map(lambda x: x[0], tmpl)))\n",
    "            if (i == 0):\n",
    "                ret = tmpl\n",
    "            else:\n",
    "                ret = np.column_stack((ret, tmpl))\n",
    "        # нужно ли транспонирование перед схлопыванием?\n",
    "        return ret.flatten()[0:self.N]\n",
    "        \n",
    "    # шаг итерации\n",
    "    def step(self):\n",
    "        # селекция\n",
    "        #selected_array = np.append(self.selection(), self.generation)\n",
    "        selected_array = self.selection()\n",
    "        # перемешивание\n",
    "        np.random.shuffle(selected_array)\n",
    "        # кроссинговер\n",
    "        selected_pairs = np.resize(selected_array, (int(np.ceil(self.N/2)), 2))\n",
    "        selected_array = np.array(list(map(lambda p: self.shouldCrossover(p), selected_pairs))).flatten()\n",
    "        # мутация\n",
    "        selected_array = np.vectorize(lambda p: self.shouldMutate(p))(selected_array)\n",
    "        # запоминаем поколение мутантов как следующее поколение\n",
    "        self.generation = selected_array\n",
    "        self.iter += 1\n",
    "            \n",
    "    # алгоритм работы по шагам\n",
    "    def end_by_steps(self):\n",
    "        vector_list = []\n",
    "        for i in range(0, self.max_iters):\n",
    "            self.step()\n",
    "            #print(\"Step =\" + str(i))\n",
    "            # получаем лучшую оценку по каждому из критериев\n",
    "            best_vector = np.array([])\n",
    "            for k in range(0, self.criteria_count):\n",
    "                gfitness = list(map(lambda p: p.interpret()[k], self.generation))\n",
    "                best_vector = np.append(best_vector, [np.min(gfitness)])\n",
    "                \n",
    "            if i == 0:\n",
    "                vector_list = best_vector\n",
    "            else:\n",
    "                vector_list = np.row_stack((vector_list, best_vector))\n",
    "                    \n",
    "        last_fitnesses = list(map(lambda p: p.interpret(), self.generation))\n",
    "        return (vector_list, last_fitnesses)\n",
    "        "
   ]
  },
  {
   "cell_type": "code",
   "execution_count": 57,
   "metadata": {},
   "outputs": [
    {
     "data": {
      "text/plain": [
       "<matplotlib.collections.PathCollection at 0xd16e5c0>"
      ]
     },
     "execution_count": 57,
     "metadata": {},
     "output_type": "execute_result"
    },
    {
     "data": {
      "image/png": "[encoded data removed]",
      "text/plain": [
       "<Figure size 432x216 with 2 Axes>"
      ]
     },
     "metadata": {
      "needs_background": "light"
     },
     "output_type": "display_data"
    }
   ],
   "source": [
    "vega = veGA(N = 150, pc = 1.0, pm = 0.001, max_iters = 100)\n",
    "fitnesses = vega.end_by_steps()\n",
    "\n",
    "# построим некоторые графики\n",
    "fig, axs = plt.subplots(1, 2, figsize=(6, 3), sharey=True)\n",
    "fig.suptitle('Fitness functions over iterations + pareto front')\n",
    "\n",
    "axs[1].plot(fitnesses[0])\n",
    "#plt.ylabel(\"Минимальная оценка критериев\")\n",
    "plt.xlabel(\"Номер шага\");\n",
    "\n",
    "points = np.array(fitnesses[1])\n",
    "t = np.arange(0., 1., 0.01)\n",
    "pselection = (points[:, 0] < 3) * (points[:, 1] < 3)\n",
    "axs[0].scatter(points[pselection, 0], points[pselection, 1], color = \"blue\", s = 4)\n",
    "axs[0].scatter(t, 1 - np.sqrt(t), color = \"black\", s = 0.1)"
   ]
  },
  {
   "cell_type": "code",
   "execution_count": 6,
   "metadata": {},
   "outputs": [
    {
     "data": {
      "text/plain": [
       "<matplotlib.collections.PathCollection at 0x7fc6a58>"
      ]
     },
     "execution_count": 6,
     "metadata": {},
     "output_type": "execute_result"
    },
    {
     "data": {
      "image/png": "[encoded data removed]",
      "text/plain": [
       "<Figure size 288x288 with 1 Axes>"
      ]
     },
     "metadata": {
      "needs_background": "light"
     },
     "output_type": "display_data"
    }
   ],
   "source": [
    "vega = veGA(N = 10, pc = 0.5, pm = 0.001, max_iters = 0)\n",
    "fitnesses = vega.end_by_steps()\n",
    "\n",
    "# построим некоторые графики\n",
    "fig, axs = plt.subplots(1, 1, figsize=(4, 4), sharey=True)\n",
    "fig.suptitle('Fitness functions over iterations + pareto front')\n",
    "\n",
    "#axs[1].plot(fitnesses[0])\n",
    "#plt.ylabel(\"Минимальная оценка критериев\")\n",
    "#plt.xlabel(\"Номер шага\");\n",
    "\n",
    "points = np.array(fitnesses[1])\n",
    "t = np.arange(0., 1., 0.01)\n",
    "pselection = (points[:, 0] < 3) * (points[:, 1] < 3)\n",
    "axs.scatter(points[pselection, 0], points[pselection, 1], color = \"blue\", s = 4)\n",
    "axs.scatter(t, 1 - np.sqrt(t), color = \"black\", s = 0.1)"
   ]
  },
  {
   "cell_type": "code",
   "execution_count": null,
   "metadata": {},
   "outputs": [],
   "source": []
  }
 ],
 "metadata": {
  "kernelspec": {
   "display_name": "Python 3",
   "language": "python",
   "name": "python3"
  },
  "language_info": {
   "codemirror_mode": {
    "name": "ipython",
    "version": 3
   },
   "file_extension": ".py",
   "mimetype": "text/x-python",
   "name": "python",
   "nbconvert_exporter": "python",
   "pygments_lexer": "ipython3",
   "version": "3.6.8"
  }
 },
 "nbformat": 4,
 "nbformat_minor": 2
}
